{
 "cells": [
  {
   "cell_type": "code",
   "execution_count": 21,
   "id": "ac84bd74",
   "metadata": {},
   "outputs": [],
   "source": [
    "import numpy as np"
   ]
  },
  {
   "cell_type": "code",
   "execution_count": 22,
   "id": "9e77e28b",
   "metadata": {},
   "outputs": [],
   "source": [
    "x1 = np.array([1,1,1,0,0])\n",
    "x2 = np.array([0,0,1,1,1])\n",
    "y1 = np.array([1,0,0])\n",
    "y2 = np.array([0,1,0])"
   ]
  },
  {
   "cell_type": "code",
   "execution_count": 23,
   "id": "38462820",
   "metadata": {},
   "outputs": [],
   "source": [
    "w= np.zeros((len(x1),len(y1)))\n",
    "for i in range(len(x1)):\n",
    "    for j in range(len(y1)):\n",
    "        w[i][j] = x1[i]*y1[j] + x2[i]*y2[j]"
   ]
  },
  {
   "cell_type": "code",
   "execution_count": 31,
   "id": "1bb0357d",
   "metadata": {},
   "outputs": [],
   "source": [
    "def BAM(input_vector):\n",
    "    output_vector = np.zeros(len(y1))\n",
    "    for j in range(len(y1)):\n",
    "        sum = 0\n",
    "    for i in range(len(x1)):\n",
    "        sum+= input_vector[i]* w[i][j]\n",
    "        output_vector[j] = sum\n",
    "        return output_vector"
   ]
  },
  {
   "cell_type": "code",
   "execution_count": 32,
   "id": "a001c510",
   "metadata": {},
   "outputs": [
    {
     "name": "stdout",
     "output_type": "stream",
     "text": [
      "input vector: [1 1 1 0 0]\n",
      "output vector: [0. 0. 0.]\n"
     ]
    }
   ],
   "source": [
    "input_vector =x1\n",
    "output_vector = BAM(input_vector)\n",
    "print(\"input vector:\",input_vector)\n",
    "print(\"output vector:\",output_vector)"
   ]
  },
  {
   "cell_type": "code",
   "execution_count": null,
   "id": "446fe00d",
   "metadata": {},
   "outputs": [],
   "source": []
  }
 ],
 "metadata": {
  "kernelspec": {
   "display_name": "Python 3 (ipykernel)",
   "language": "python",
   "name": "python3"
  },
  "language_info": {
   "codemirror_mode": {
    "name": "ipython",
    "version": 3
   },
   "file_extension": ".py",
   "mimetype": "text/x-python",
   "name": "python",
   "nbconvert_exporter": "python",
   "pygments_lexer": "ipython3",
   "version": "3.9.12"
  }
 },
 "nbformat": 4,
 "nbformat_minor": 5
}
