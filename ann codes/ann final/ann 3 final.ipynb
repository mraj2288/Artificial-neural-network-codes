{
 "cells": [
  {
   "cell_type": "code",
   "execution_count": 1,
   "id": "e3643e58",
   "metadata": {},
   "outputs": [],
   "source": [
    "import numpy as np"
   ]
  },
  {
   "cell_type": "code",
   "execution_count": 2,
   "id": "11cf19e9",
   "metadata": {},
   "outputs": [],
   "source": [
    "training_data = np.array([[48,0],\n",
    "                         [49,1],\n",
    "                         [50,0],\n",
    "                         [51,1],\n",
    "                         [52,0],\n",
    "                         [53,1],\n",
    "                         [54,0],\n",
    "                         [55,1],\n",
    "                         [56,0],\n",
    "                         [57,1]])"
   ]
  },
  {
   "cell_type": "code",
   "execution_count": 3,
   "id": "679dcaac",
   "metadata": {},
   "outputs": [],
   "source": [
    "x=training_data[:,0].reshape(-1,1)\n",
    "y=training_data[:,1]"
   ]
  },
  {
   "cell_type": "code",
   "execution_count": 4,
   "id": "7cfc93cc",
   "metadata": {},
   "outputs": [],
   "source": [
    "perceptron = np.where(np.sum(x,axis=1)%2 == 0,0,1)"
   ]
  },
  {
   "cell_type": "code",
   "execution_count": 5,
   "id": "f35a91ac",
   "metadata": {},
   "outputs": [],
   "source": [
    "test_data= np.array([48,49,50,51,52,53,54,55,56,57])\n",
    "predictions= np.where(np.sum(test_data.reshape(-1,1),axis=1)%2== 0,0,1)"
   ]
  },
  {
   "cell_type": "code",
   "execution_count": 8,
   "id": "d5b72553",
   "metadata": {},
   "outputs": [
    {
     "name": "stdout",
     "output_type": "stream",
     "text": [
      "Number:0, ASCII value:48, output:even.\n",
      "Number:1, ASCII value:49, output:odd.\n",
      "Number:2, ASCII value:50, output:even.\n",
      "Number:3, ASCII value:51, output:odd.\n",
      "Number:4, ASCII value:52, output:even.\n",
      "Number:5, ASCII value:53, output:odd.\n",
      "Number:6, ASCII value:54, output:even.\n",
      "Number:7, ASCII value:55, output:odd.\n",
      "Number:8, ASCII value:56, output:even.\n",
      "Number:9, ASCII value:57, output:odd.\n"
     ]
    }
   ],
   "source": [
    "for ascii_val, prediction in zip(test_data, predictions):\n",
    "    number = chr(ascii_val)\n",
    "    parity = \"even\" if prediction == 0 else \"odd\"\n",
    "    print(f\"Number:{number}, ASCII value:{ascii_val}, output:{parity}.\")"
   ]
  },
  {
   "cell_type": "code",
   "execution_count": null,
   "id": "25bf7fd8",
   "metadata": {},
   "outputs": [],
   "source": []
  }
 ],
 "metadata": {
  "kernelspec": {
   "display_name": "Python 3 (ipykernel)",
   "language": "python",
   "name": "python3"
  },
  "language_info": {
   "codemirror_mode": {
    "name": "ipython",
    "version": 3
   },
   "file_extension": ".py",
   "mimetype": "text/x-python",
   "name": "python",
   "nbconvert_exporter": "python",
   "pygments_lexer": "ipython3",
   "version": "3.9.12"
  }
 },
 "nbformat": 4,
 "nbformat_minor": 5
}
