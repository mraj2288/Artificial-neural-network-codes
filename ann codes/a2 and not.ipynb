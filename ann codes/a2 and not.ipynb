{
 "cells": [
  {
   "cell_type": "code",
   "execution_count": 1,
   "id": "3867fb01",
   "metadata": {},
   "outputs": [],
   "source": [
    "import numpy as np"
   ]
  },
  {
   "cell_type": "code",
   "execution_count": 2,
   "id": "52c2f291",
   "metadata": {},
   "outputs": [],
   "source": [
    "# Define the McCulloch-Pitts neural network\n",
    "class McCullochPitts:\n",
    "    def __init__(self, input_size):\n",
    "        self.weights = np.zeros(input_size)\n",
    "        self.bias = 0"
   ]
  },
  {
   "cell_type": "code",
   "execution_count": 3,
   "id": "3c68a059",
   "metadata": {},
   "outputs": [],
   "source": [
    "def predict(self, inputs):\n",
    "        linear_combination = np.dot(self.weights, inputs) + self.bias\n",
    "        return 1 if linear_combination >= 0 else 0"
   ]
  },
  {
   "cell_type": "code",
   "execution_count": 4,
   "id": "377186f6",
   "metadata": {},
   "outputs": [],
   "source": [
    "# Define the inputs and expected outputs for the ANDNOT function\n",
    "inputs = np.array([[0, 0], [0, 1], [1, 0], [1, 1]])\n",
    "expected_outputs = np.array([0, 0, 1, 0])"
   ]
  },
  {
   "cell_type": "code",
   "execution_count": 5,
   "id": "f1560136",
   "metadata": {},
   "outputs": [],
   "source": [
    "# Create a McCulloch-Pitts neural network with 2 inputs\n",
    "neural_network = McCullochPitts(2)"
   ]
  },
  {
   "cell_type": "code",
   "execution_count": 1,
   "id": "4a40bb52",
   "metadata": {},
   "outputs": [
    {
     "ename": "NameError",
     "evalue": "name 'inputs' is not defined",
     "output_type": "error",
     "traceback": [
      "\u001b[1;31m---------------------------------------------------------------------------\u001b[0m",
      "\u001b[1;31mNameError\u001b[0m                                 Traceback (most recent call last)",
      "Input \u001b[1;32mIn [1]\u001b[0m, in \u001b[0;36m<cell line: 4>\u001b[1;34m()\u001b[0m\n\u001b[0;32m      3\u001b[0m epochs \u001b[38;5;241m=\u001b[39m \u001b[38;5;241m10\u001b[39m\n\u001b[0;32m      4\u001b[0m \u001b[38;5;28;01mfor\u001b[39;00m epoch \u001b[38;5;129;01min\u001b[39;00m \u001b[38;5;28mrange\u001b[39m(epochs):\n\u001b[1;32m----> 5\u001b[0m     \u001b[38;5;28;01mfor\u001b[39;00m \u001b[38;5;28minput\u001b[39m, expected_output \u001b[38;5;129;01min\u001b[39;00m \u001b[38;5;28mzip\u001b[39m(\u001b[43minputs\u001b[49m, expected_outputs):\n\u001b[0;32m      6\u001b[0m         prediction \u001b[38;5;241m=\u001b[39m neural_network\u001b[38;5;241m.\u001b[39mpredict(\u001b[38;5;28minput\u001b[39m)\n\u001b[0;32m      7\u001b[0m         error \u001b[38;5;241m=\u001b[39m expected_output \u001b[38;5;241m-\u001b[39m prediction\n",
      "\u001b[1;31mNameError\u001b[0m: name 'inputs' is not defined"
     ]
    }
   ],
   "source": [
    "# Train the neural network using the perceptron learning rule\n",
    "learning_rate = 0.1\n",
    "epochs = 10\n",
    "for epoch in range(epochs):\n",
    "    for input, expected_output in zip(inputs, expected_outputs):\n",
    "        prediction = neural_network.predict(input)\n",
    "        error = expected_output - prediction\n",
    "        neural_network.weights += learning_rate * error * input\n",
    "        neural_network.bias += learning_rate * error"
   ]
  },
  {
   "cell_type": "code",
   "execution_count": 7,
   "id": "ca677984",
   "metadata": {},
   "outputs": [
    {
     "name": "stdout",
     "output_type": "stream",
     "text": [
      "Inputs: [0 0]\n"
     ]
    },
    {
     "ename": "AttributeError",
     "evalue": "'McCullochPitts' object has no attribute 'predict'",
     "output_type": "error",
     "traceback": [
      "\u001b[1;31m---------------------------------------------------------------------------\u001b[0m",
      "\u001b[1;31mAttributeError\u001b[0m                            Traceback (most recent call last)",
      "Input \u001b[1;32mIn [7]\u001b[0m, in \u001b[0;36m<cell line: 2>\u001b[1;34m()\u001b[0m\n\u001b[0;32m      2\u001b[0m \u001b[38;5;28;01mfor\u001b[39;00m \u001b[38;5;28minput\u001b[39m \u001b[38;5;129;01min\u001b[39;00m inputs:\n\u001b[0;32m      3\u001b[0m     \u001b[38;5;28mprint\u001b[39m(\u001b[38;5;124mf\u001b[39m\u001b[38;5;124m\"\u001b[39m\u001b[38;5;124mInputs: \u001b[39m\u001b[38;5;132;01m{\u001b[39;00m\u001b[38;5;28minput\u001b[39m\u001b[38;5;132;01m}\u001b[39;00m\u001b[38;5;124m\"\u001b[39m)\n\u001b[1;32m----> 4\u001b[0m     \u001b[38;5;28;01mif\u001b[39;00m \u001b[43mneural_network\u001b[49m\u001b[38;5;241;43m.\u001b[39;49m\u001b[43mpredict\u001b[49m(\u001b[38;5;28minput\u001b[39m) \u001b[38;5;241m==\u001b[39m \u001b[38;5;241m1\u001b[39m:\n\u001b[0;32m      5\u001b[0m         \u001b[38;5;28mprint\u001b[39m(\u001b[38;5;124m\"\u001b[39m\u001b[38;5;124mANDNOT output: True\u001b[39m\u001b[38;5;124m\"\u001b[39m)\n\u001b[0;32m      6\u001b[0m     \u001b[38;5;28;01melse\u001b[39;00m:\n",
      "\u001b[1;31mAttributeError\u001b[0m: 'McCullochPitts' object has no attribute 'predict'"
     ]
    }
   ],
   "source": [
    "# Test the neural network on the inputs\n",
    "for input in inputs:\n",
    "    print(f\"Inputs: {input}\")\n",
    "    if neural_network.predict(input) == 1:\n",
    "        print(\"ANDNOT output: True\")\n",
    "    else:\n",
    "        print(\"ANDNOT output: False\")"
   ]
  },
  {
   "cell_type": "code",
   "execution_count": null,
   "id": "6a234f92",
   "metadata": {},
   "outputs": [],
   "source": []
  }
 ],
 "metadata": {
  "kernelspec": {
   "display_name": "Python 3 (ipykernel)",
   "language": "python",
   "name": "python3"
  },
  "language_info": {
   "codemirror_mode": {
    "name": "ipython",
    "version": 3
   },
   "file_extension": ".py",
   "mimetype": "text/x-python",
   "name": "python",
   "nbconvert_exporter": "python",
   "pygments_lexer": "ipython3",
   "version": "3.9.12"
  }
 },
 "nbformat": 4,
 "nbformat_minor": 5
}
