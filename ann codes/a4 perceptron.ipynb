{
 "cells": [
  {
   "cell_type": "code",
   "execution_count": 1,
   "id": "ae3ac551",
   "metadata": {},
   "outputs": [],
   "source": [
    "import numpy as np\n",
    "import matplotlib.pyplot as plt"
   ]
  },
  {
   "cell_type": "code",
   "execution_count": 12,
   "id": "2c38862d",
   "metadata": {},
   "outputs": [],
   "source": [
    "# define the perceptron model\n",
    "class Perceptron:\n",
    "    def __init__(self, lr=0.1, n_iter=100):\n",
    "        self.lr = lr  # learning rate\n",
    "        self.n_iter = n_iter  # number of iterations\n",
    "        self.weights = None  # weights of the model\n",
    "        self.bias = None  # bias of the model"
   ]
  },
  {
   "cell_type": "code",
   "execution_count": 13,
   "id": "16835a51",
   "metadata": {},
   "outputs": [],
   "source": [
    "def fit(self, X, y):\n",
    "        # initialize weights and bias to zeros\n",
    "        self.weights = np.zeros(X.shape[1])\n",
    "        self.bias = 1"
   ]
  },
  {
   "cell_type": "code",
   "execution_count": 14,
   "id": "9236ddeb",
   "metadata": {},
   "outputs": [
    {
     "ename": "NameError",
     "evalue": "name 'self' is not defined",
     "output_type": "error",
     "traceback": [
      "\u001b[1;31m---------------------------------------------------------------------------\u001b[0m",
      "\u001b[1;31mNameError\u001b[0m                                 Traceback (most recent call last)",
      "Input \u001b[1;32mIn [14]\u001b[0m, in \u001b[0;36m<cell line: 2>\u001b[1;34m()\u001b[0m\n\u001b[0;32m      1\u001b[0m \u001b[38;5;66;03m# iterate through the dataset\u001b[39;00m\n\u001b[1;32m----> 2\u001b[0m \u001b[38;5;28;01mfor\u001b[39;00m i \u001b[38;5;129;01min\u001b[39;00m \u001b[38;5;28mrange\u001b[39m(\u001b[38;5;28;43mself\u001b[39;49m\u001b[38;5;241m.\u001b[39mn_iter):\n\u001b[0;32m      3\u001b[0m     \u001b[38;5;66;03m# iterate through each example\u001b[39;00m\n\u001b[0;32m      4\u001b[0m     \u001b[38;5;28;01mfor\u001b[39;00m j \u001b[38;5;129;01min\u001b[39;00m \u001b[38;5;28mrange\u001b[39m(X\u001b[38;5;241m.\u001b[39mshape[\u001b[38;5;241m0\u001b[39m]):\n\u001b[0;32m      5\u001b[0m         \u001b[38;5;66;03m# calculate the predicted output\u001b[39;00m\n\u001b[0;32m      6\u001b[0m         pred \u001b[38;5;241m=\u001b[39m \u001b[38;5;28mself\u001b[39m\u001b[38;5;241m.\u001b[39mpredict(X[j])\n",
      "\u001b[1;31mNameError\u001b[0m: name 'self' is not defined"
     ]
    }
   ],
   "source": [
    "# iterate through the dataset\n",
    "for i in range(self.n_iter):\n",
    "    # iterate through each example\n",
    "    for j in range(X.shape[0]):\n",
    "        # calculate the predicted output\n",
    "        pred = self.predict(X[j])\n",
    "        # update the weights and bias if the prediction is wrong\n",
    "        if pred != y[j]:\n",
    "            self.weights += self.lr * y[j] * X[j]\n",
    "            self.bias += self.lr * y[j]"
   ]
  },
  {
   "cell_type": "code",
   "execution_count": 15,
   "id": "9e874522",
   "metadata": {},
   "outputs": [],
   "source": [
    "def predict(self, X):\n",
    "        # calculate the output of the perceptron\n",
    "        output = np.dot(X, self.weights) + self.bias\n",
    "        # return the predicted label\n",
    "        return np.where(output >= 0, 1, -1)"
   ]
  },
  {
   "cell_type": "code",
   "execution_count": 16,
   "id": "523f0ca6",
   "metadata": {},
   "outputs": [],
   "source": [
    "# create a sample dataset\n",
    "X = np.array([[2, 2], [4, 4], [4, 0], [3, 2], [8, 4], [8, 0]])\n",
    "y = np.array([1, 1, -1, 1, -1, -1])"
   ]
  },
  {
   "cell_type": "code",
   "execution_count": 20,
   "id": "44f152a9",
   "metadata": {},
   "outputs": [
    {
     "ename": "AttributeError",
     "evalue": "'Perceptron' object has no attribute 'fit'",
     "output_type": "error",
     "traceback": [
      "\u001b[1;31m---------------------------------------------------------------------------\u001b[0m",
      "\u001b[1;31mAttributeError\u001b[0m                            Traceback (most recent call last)",
      "Input \u001b[1;32mIn [20]\u001b[0m, in \u001b[0;36m<cell line: 3>\u001b[1;34m()\u001b[0m\n\u001b[0;32m      1\u001b[0m \u001b[38;5;66;03m# create a perceptron model and fit it to the data\u001b[39;00m\n\u001b[0;32m      2\u001b[0m model \u001b[38;5;241m=\u001b[39m Perceptron()\n\u001b[1;32m----> 3\u001b[0m \u001b[43mmodel\u001b[49m\u001b[38;5;241;43m.\u001b[39;49m\u001b[43mfit\u001b[49m(X, y)\n",
      "\u001b[1;31mAttributeError\u001b[0m: 'Perceptron' object has no attribute 'fit'"
     ]
    }
   ],
   "source": [
    "# create a perceptron model and fit it to the data\n",
    "model = Perceptron()\n",
    "model.fit(X, y)"
   ]
  },
  {
   "cell_type": "code",
   "execution_count": 21,
   "id": "d28723e0",
   "metadata": {},
   "outputs": [
    {
     "ename": "TypeError",
     "evalue": "'NoneType' object is not subscriptable",
     "output_type": "error",
     "traceback": [
      "\u001b[1;31m---------------------------------------------------------------------------\u001b[0m",
      "\u001b[1;31mTypeError\u001b[0m                                 Traceback (most recent call last)",
      "Input \u001b[1;32mIn [21]\u001b[0m, in \u001b[0;36m<cell line: 6>\u001b[1;34m()\u001b[0m\n\u001b[0;32m      4\u001b[0m plt\u001b[38;5;241m.\u001b[39mylim(\u001b[38;5;241m0\u001b[39m, \u001b[38;5;241m5\u001b[39m)\n\u001b[0;32m      5\u001b[0m x1 \u001b[38;5;241m=\u001b[39m np\u001b[38;5;241m.\u001b[39mlinspace(\u001b[38;5;241m0\u001b[39m, \u001b[38;5;241m10\u001b[39m)\n\u001b[1;32m----> 6\u001b[0m x2 \u001b[38;5;241m=\u001b[39m \u001b[38;5;241m-\u001b[39m(\u001b[43mmodel\u001b[49m\u001b[38;5;241;43m.\u001b[39;49m\u001b[43mweights\u001b[49m\u001b[43m[\u001b[49m\u001b[38;5;241;43m0\u001b[39;49m\u001b[43m]\u001b[49m\u001b[38;5;241m*\u001b[39mx1 \u001b[38;5;241m+\u001b[39m model\u001b[38;5;241m.\u001b[39mbias)\u001b[38;5;241m/\u001b[39mmodel\u001b[38;5;241m.\u001b[39mweights[\u001b[38;5;241m1\u001b[39m]\n\u001b[0;32m      7\u001b[0m plt\u001b[38;5;241m.\u001b[39mplot(x1, x2, \u001b[38;5;124m'\u001b[39m\u001b[38;5;124m-r\u001b[39m\u001b[38;5;124m'\u001b[39m)\n\u001b[0;32m      8\u001b[0m plt\u001b[38;5;241m.\u001b[39mshow()\n",
      "\u001b[1;31mTypeError\u001b[0m: 'NoneType' object is not subscriptable"
     ]
    },
    {
     "data": {
      "image/png": "[encoded data removed]",
      "text/plain": [
       "<Figure size 432x288 with 1 Axes>"
      ]
     },
     "metadata": {
      "needs_background": "light"
     },
     "output_type": "display_data"
    }
   ],
   "source": [
    "# plot the data and decision boundary\n",
    "plt.scatter(X[:, 0], X[:, 1], c=y)\n",
    "plt.xlim(0, 10)\n",
    "plt.ylim(0, 5)\n",
    "x1 = np.linspace(0, 10)\n",
    "x2 = -(model.weights[0]*x1 + model.bias)/model.weights[1]\n",
    "plt.plot(x1, x2, '-r')\n",
    "plt.show()"
   ]
  },
  {
   "cell_type": "code",
   "execution_count": null,
   "id": "8a9c5bba",
   "metadata": {},
   "outputs": [],
   "source": []
  }
 ],
 "metadata": {
  "kernelspec": {
   "display_name": "Python 3 (ipykernel)",
   "language": "python",
   "name": "python3"
  },
  "language_info": {
   "codemirror_mode": {
    "name": "ipython",
    "version": 3
   },
   "file_extension": ".py",
   "mimetype": "text/x-python",
   "name": "python",
   "nbconvert_exporter": "python",
   "pygments_lexer": "ipython3",
   "version": "3.9.12"
  }
 },
 "nbformat": 4,
 "nbformat_minor": 5
}
