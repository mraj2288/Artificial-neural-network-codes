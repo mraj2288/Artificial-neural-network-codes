{
 "cells": [
  {
   "cell_type": "code",
   "execution_count": 16,
   "id": "84d5fb07",
   "metadata": {},
   "outputs": [],
   "source": [
    "import numpy as np"
   ]
  },
  {
   "cell_type": "code",
   "execution_count": 17,
   "id": "979b3e79",
   "metadata": {},
   "outputs": [],
   "source": [
    "# Define sigmoid activation function\n",
    "def sigmoid(x):\n",
    "    return 1 / (1 + np.exp(-x))"
   ]
  },
  {
   "cell_type": "code",
   "execution_count": 18,
   "id": "0ce755c3",
   "metadata": {},
   "outputs": [],
   "source": [
    "# Define derivative of sigmoid function\n",
    "def sigmoid_derivative(x):\n",
    "    return x * (1 - x)"
   ]
  },
  {
   "cell_type": "code",
   "execution_count": 19,
   "id": "d3dbc0a0",
   "metadata": {},
   "outputs": [],
   "source": [
    "# Define input dataset\n",
    "X = np.array([[0,0], [0,1], [1,0], [1,1]])"
   ]
  },
  {
   "cell_type": "code",
   "execution_count": 20,
   "id": "3517c94c",
   "metadata": {},
   "outputs": [],
   "source": [
    "# Define output dataset\n",
    "y = np.array([[0], [1], [1], [0]])"
   ]
  },
  {
   "cell_type": "code",
   "execution_count": 21,
   "id": "9b09d860",
   "metadata": {},
   "outputs": [],
   "source": [
    "# Define hyperparameters\n",
    "learning_rate = 0.1\n",
    "num_epochs = 100000"
   ]
  },
  {
   "cell_type": "code",
   "execution_count": 22,
   "id": "c8c3afc5",
   "metadata": {},
   "outputs": [],
   "source": [
    "# Initialize weights randomly with mean 0\n",
    "hidden_weights = 2*np.random.random((2,2)) - 1\n",
    "output_weights = 2*np.random.random((2,1)) - 1"
   ]
  },
  {
   "cell_type": "code",
   "execution_count": 23,
   "id": "1118e694",
   "metadata": {},
   "outputs": [],
   "source": [
    "# Train the neural network\n",
    "for i in range(num_epochs):\n",
    "    # Forward propagation\n",
    "    hidden_layer = sigmoid(np.dot(X, hidden_weights))\n",
    "    output_layer = sigmoid(np.dot(hidden_layer, output_weights))\n",
    "    \n",
    "    # Backpropagation\n",
    "    output_error = y - output_layer\n",
    "    output_delta = output_error * sigmoid_derivative(output_layer)\n",
    "    \n",
    "    hidden_error = output_delta.dot(output_weights.T)\n",
    "    hidden_delta = hidden_error * sigmoid_derivative(hidden_layer)\n",
    "\n",
    "    output_weights += hidden_layer.T.dot(output_delta) * learning_rate\n",
    "    hidden_weights += X.T.dot(hidden_delta) * learning_rate"
   ]
  },
  {
   "cell_type": "code",
   "execution_count": 24,
   "id": "fa784029",
   "metadata": {},
   "outputs": [
    {
     "name": "stdout",
     "output_type": "stream",
     "text": [
      "Input:\n",
      "[[0 0]\n",
      " [0 1]\n",
      " [1 0]\n",
      " [1 1]]\n",
      "Output:\n",
      "[[0.04489309]\n",
      " [0.85723246]\n",
      " [0.85723284]\n",
      " [0.55243654]]\n"
     ]
    }
   ],
   "source": [
    "# Display input and output\n",
    "print(\"Input:\")\n",
    "print(X)\n",
    "print(\"Output:\")\n",
    "print(output_layer)"
   ]
  },
  {
   "cell_type": "code",
   "execution_count": null,
   "id": "12e7bc9b",
   "metadata": {},
   "outputs": [],
   "source": []
  }
 ],
 "metadata": {
  "kernelspec": {
   "display_name": "Python 3 (ipykernel)",
   "language": "python",
   "name": "python3"
  },
  "language_info": {
   "codemirror_mode": {
    "name": "ipython",
    "version": 3
   },
   "file_extension": ".py",
   "mimetype": "text/x-python",
   "name": "python",
   "nbconvert_exporter": "python",
   "pygments_lexer": "ipython3",
   "version": "3.9.12"
  }
 },
 "nbformat": 4,
 "nbformat_minor": 5
}
