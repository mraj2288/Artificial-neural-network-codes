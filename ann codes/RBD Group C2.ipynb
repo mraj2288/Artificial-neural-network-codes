{
 "cells": [
  {
   "cell_type": "code",
   "execution_count": 1,
   "id": "cea66e38",
   "metadata": {},
   "outputs": [
    {
     "name": "stdout",
     "output_type": "stream",
     "text": [
      "Epoch 1/10\n",
      "938/938 [==============================] - 38s 37ms/step - loss: 0.1831 - accuracy: 0.9433\n",
      "Epoch 2/10\n",
      "938/938 [==============================] - 39s 41ms/step - loss: 0.0533 - accuracy: 0.9834\n",
      "Epoch 3/10\n",
      "938/938 [==============================] - 40s 43ms/step - loss: 0.0371 - accuracy: 0.9880\n",
      "Epoch 4/10\n",
      "938/938 [==============================] - 41s 44ms/step - loss: 0.0294 - accuracy: 0.9908\n",
      "Epoch 5/10\n",
      "938/938 [==============================] - 42s 45ms/step - loss: 0.0238 - accuracy: 0.9925\n",
      "Epoch 6/10\n",
      "938/938 [==============================] - 46s 49ms/step - loss: 0.0199 - accuracy: 0.9935\n",
      "Epoch 7/10\n",
      "938/938 [==============================] - 45s 48ms/step - loss: 0.0153 - accuracy: 0.9954\n",
      "Epoch 8/10\n",
      "938/938 [==============================] - 43s 46ms/step - loss: 0.0141 - accuracy: 0.9951\n",
      "Epoch 9/10\n",
      "938/938 [==============================] - 35s 38ms/step - loss: 0.0123 - accuracy: 0.9957\n",
      "Epoch 10/10\n",
      "938/938 [==============================] - 25s 27ms/step - loss: 0.0096 - accuracy: 0.9969\n",
      "313/313 [==============================] - 3s 7ms/step - loss: 0.0307 - accuracy: 0.9919\n",
      "Test Loss: 0.030690854415297508\n",
      "Test Accuracy: 0.9919000267982483\n"
     ]
    }
   ],
   "source": [
    "import tensorflow as tf\n",
    "from tensorflow.keras.datasets import mnist\n",
    "from tensorflow.keras.models import Sequential\n",
    "from tensorflow.keras.layers import Conv2D, MaxPooling2D, Flatten, Dense\n",
    "from tensorflow.keras.utils import to_categorical\n",
    "\n",
    "(X_train, y_train), (X_test, y_test) = mnist.load_data()\n",
    "X_train = X_train.reshape(-1, 28, 28, 1) / 255.0\n",
    "X_test = X_test.reshape(-1, 28, 28, 1) / 255.0\n",
    "y_train = to_categorical(y_train)\n",
    "y_test = to_categorical(y_test)\n",
    "\n",
    "model = Sequential([\n",
    "    Conv2D(32, (3, 3), activation='relu', input_shape=(28, 28, 1)),\n",
    "    MaxPooling2D((2, 2)),\n",
    "    Conv2D(64, (3, 3), activation='relu'),\n",
    "    MaxPooling2D((2, 2)),\n",
    "    Conv2D(64, (3, 3), activation='relu'),\n",
    "    Flatten(),\n",
    "    Dense(64, activation='relu'),\n",
    "    Dense(10, activation='softmax')\n",
    "])\n",
    "\n",
    "model.compile(optimizer='adam', loss='categorical_crossentropy', metrics=['accuracy'])\n",
    "\n",
    "model.fit(X_train, y_train, batch_size=64, epochs=10, verbose=1)\n",
    "\n",
    "loss, accuracy = model.evaluate(X_test, y_test)\n",
    "print(f\"Test Loss: {loss}\")\n",
    "print(f\"Test Accuracy: {accuracy}\")\n"
   ]
  },
  {
   "cell_type": "code",
   "execution_count": null,
   "id": "a95a0a28",
   "metadata": {},
   "outputs": [],
   "source": []
  }
 ],
 "metadata": {
  "kernelspec": {
   "display_name": "Python 3 (ipykernel)",
   "language": "python",
   "name": "python3"
  },
  "language_info": {
   "codemirror_mode": {
    "name": "ipython",
    "version": 3
   },
   "file_extension": ".py",
   "mimetype": "text/x-python",
   "name": "python",
   "nbconvert_exporter": "python",
   "pygments_lexer": "ipython3",
   "version": "3.9.12"
  }
 },
 "nbformat": 4,
 "nbformat_minor": 5
}
