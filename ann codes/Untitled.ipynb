{
 "cells": [
  {
   "cell_type": "code",
   "execution_count": 15,
   "id": "d3dea911",
   "metadata": {},
   "outputs": [
    {
     "name": "stdout",
     "output_type": "stream",
     "text": [
      "Epoch 1/10\n",
      "938/938 [==============================] - 55s 56ms/step - loss: 0.1738 - accuracy: 0.9474\n",
      "Epoch 2/10\n",
      "938/938 [==============================] - 51s 54ms/step - loss: 0.0491 - accuracy: 0.9848\n",
      "Epoch 3/10\n",
      "938/938 [==============================] - 50s 53ms/step - loss: 0.0348 - accuracy: 0.9895\n",
      "Epoch 4/10\n",
      "938/938 [==============================] - 50s 53ms/step - loss: 0.0272 - accuracy: 0.9916\n",
      "Epoch 5/10\n",
      "938/938 [==============================] - 50s 53ms/step - loss: 0.0231 - accuracy: 0.9926\n",
      "Epoch 6/10\n",
      "938/938 [==============================] - 50s 53ms/step - loss: 0.0175 - accuracy: 0.9944\n",
      "Epoch 7/10\n",
      "938/938 [==============================] - 49s 53ms/step - loss: 0.0156 - accuracy: 0.9949\n",
      "Epoch 8/10\n",
      "938/938 [==============================] - 50s 53ms/step - loss: 0.0113 - accuracy: 0.9964\n",
      "Epoch 9/10\n",
      "938/938 [==============================] - 52s 56ms/step - loss: 0.0117 - accuracy: 0.9962\n",
      "Epoch 10/10\n",
      "938/938 [==============================] - 53s 56ms/step - loss: 0.0100 - accuracy: 0.9966\n",
      "313/313 [==============================] - 4s 12ms/step - loss: 0.0330 - accuracy: 0.9912\n",
      "Test Loss: 0.03299980238080025\n",
      "Test Accuracy: 0.9911999702453613\n"
     ]
    }
   ],
   "source": [
    "import tensorflow as tf\n",
    "from tensorflow.keras.datasets import mnist\n",
    "from tensorflow.keras.models import Sequential\n",
    "from tensorflow.keras.layers import Conv2D, MaxPooling2D, Flatten, Dense\n",
    "from tensorflow.keras.utils import to_categorical\n",
    "\n",
    "(X_train, y_train), (X_test, y_test) = mnist.load_data()\n",
    "X_train = X_train.reshape(-1, 28, 28, 1) / 255.0\n",
    "X_test = X_test.reshape(-1, 28, 28, 1) / 255.0\n",
    "y_train = to_categorical(y_train)\n",
    "y_test = to_categorical(y_test)\n",
    "\n",
    "model = Sequential([\n",
    "    Conv2D(32, (3, 3), activation='relu', input_shape=(28, 28, 1)),\n",
    "    MaxPooling2D((2, 2)),\n",
    "    Conv2D(64, (3, 3), activation='relu'),\n",
    "    MaxPooling2D((2, 2)),\n",
    "    Conv2D(64, (3, 3), activation='relu'),\n",
    "    Flatten(),\n",
    "    Dense(64, activation='relu'),\n",
    "    Dense(10, activation='softmax')\n",
    "])\n",
    "\n",
    "model.compile(optimizer='adam', loss='categorical_crossentropy', metrics=['accuracy'])\n",
    "\n",
    "model.fit(X_train, y_train, batch_size=64, epochs=10, verbose=1)\n",
    "\n",
    "loss, accuracy = model.evaluate(X_test, y_test)\n",
    "print(f\"Test Loss: {loss}\")\n",
    "print(f\"Test Accuracy: {accuracy}\")"
   ]
  },
  {
   "cell_type": "code",
   "execution_count": null,
   "id": "a2eefb13",
   "metadata": {},
   "outputs": [],
   "source": []
  }
 ],
 "metadata": {
  "kernelspec": {
   "display_name": "Python 3 (ipykernel)",
   "language": "python",
   "name": "python3"
  },
  "language_info": {
   "codemirror_mode": {
    "name": "ipython",
    "version": 3
   },
   "file_extension": ".py",
   "mimetype": "text/x-python",
   "name": "python",
   "nbconvert_exporter": "python",
   "pygments_lexer": "ipython3",
   "version": "3.9.12"
  }
 },
 "nbformat": 4,
 "nbformat_minor": 5
}
