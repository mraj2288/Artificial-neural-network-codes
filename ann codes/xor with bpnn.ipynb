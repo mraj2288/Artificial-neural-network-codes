{
 "cells": [
  {
   "cell_type": "code",
   "execution_count": 1,
   "id": "ec931c80",
   "metadata": {},
   "outputs": [],
   "source": [
    "import numpy as np"
   ]
  },
  {
   "cell_type": "code",
   "execution_count": 2,
   "id": "48cc43b8",
   "metadata": {},
   "outputs": [],
   "source": [
    "# Define the sigmoid activation function\n",
    "def sigmoid(x):\n",
    "    return 1 / (1 + np.exp(-x))"
   ]
  },
  {
   "cell_type": "code",
   "execution_count": 3,
   "id": "7212b3c6",
   "metadata": {},
   "outputs": [],
   "source": [
    "# Define the derivative of the sigmoid function\n",
    "def sigmoid_derivative(x):\n",
    "    return x * (1 - x)"
   ]
  },
  {
   "cell_type": "code",
   "execution_count": 4,
   "id": "df755d07",
   "metadata": {},
   "outputs": [],
   "source": [
    "# Set the random seed for reproducibility\n",
    "np.random.seed(1)"
   ]
  },
  {
   "cell_type": "code",
   "execution_count": 5,
   "id": "79fb0142",
   "metadata": {},
   "outputs": [],
   "source": [
    "# Define the input and output data for the XOR function\n",
    "X = np.array([[0, 0], [0, 1], [1, 0], [1, 1]])\n",
    "y = np.array([[0], [1], [1], [0]])"
   ]
  },
  {
   "cell_type": "code",
   "execution_count": 6,
   "id": "b9709ae4",
   "metadata": {},
   "outputs": [],
   "source": [
    "# Define the hyperparameters for the network\n",
    "epochs = 10000\n",
    "learning_rate = 0.1\n",
    "hidden_layer_size = 25"
   ]
  },
  {
   "cell_type": "code",
   "execution_count": 7,
   "id": "928b111c",
   "metadata": {},
   "outputs": [],
   "source": [
    "# Initialize the weights for the input layer and the hidden layer\n",
    "input_layer_weights = np.random.uniform(size=(2, hidden_layer_size))\n",
    "hidden_layer_weights = np.random.uniform(size=(hidden_layer_size, 1))"
   ]
  },
  {
   "cell_type": "code",
   "execution_count": 9,
   "id": "b0e8ed03",
   "metadata": {},
   "outputs": [],
   "source": [
    "# Train the neural network using backpropagation\n",
    "for i in range(epochs):\n",
    "    \n",
    "    # Forward propagation\n",
    "    hidden_layer_output = sigmoid(np.dot(X, input_layer_weights))\n",
    "    output_layer_output = sigmoid(np.dot(hidden_layer_output, hidden_layer_weights))\n",
    "\n",
    "    # Backpropagation\n",
    "    output_layer_error = y - output_layer_output\n",
    "    output_layer_delta = output_layer_error * sigmoid_derivative(output_layer_output)\n",
    "\n",
    "    hidden_layer_error = output_layer_delta.dot(hidden_layer_weights.T)\n",
    "    hidden_layer_delta = hidden_layer_error * sigmoid_derivative(hidden_layer_output)"
   ]
  },
  {
   "cell_type": "code",
   "execution_count": 20,
   "id": "8a30bb9c",
   "metadata": {},
   "outputs": [
    {
     "name": "stdout",
     "output_type": "stream",
     "text": [
      "[[0.99587844]\n",
      " [0.99889129]\n",
      " [0.99882476]\n",
      " [0.99963491]]\n"
     ]
    }
   ],
   "source": [
    "# Update the weights\n",
    "hidden_layer_weights += hidden_layer_output.T.dot(output_layer_delta) *learning_rate\n",
    "input_layer_weights += X.T.dot(hidden_layer_delta) * learning_rate\n",
    "\n",
    "# Test the neural network\n",
    "hidden_layer_output = sigmoid(np.dot(X, input_layer_weights))\n",
    "output_layer_output = sigmoid(np.dot(hidden_layer_output, hidden_layer_weights))\n",
    "print(output_layer_output)"
   ]
  },
  {
   "cell_type": "code",
   "execution_count": null,
   "id": "9517affe",
   "metadata": {},
   "outputs": [],
   "source": []
  }
 ],
 "metadata": {
  "kernelspec": {
   "display_name": "Python 3 (ipykernel)",
   "language": "python",
   "name": "python3"
  },
  "language_info": {
   "codemirror_mode": {
    "name": "ipython",
    "version": 3
   },
   "file_extension": ".py",
   "mimetype": "text/x-python",
   "name": "python",
   "nbconvert_exporter": "python",
   "pygments_lexer": "ipython3",
   "version": "3.9.12"
  }
 },
 "nbformat": 4,
 "nbformat_minor": 5
}
