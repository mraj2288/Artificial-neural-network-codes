{
 "cells": [
  {
   "cell_type": "code",
   "execution_count": 32,
   "id": "5d317eab",
   "metadata": {},
   "outputs": [],
   "source": [
    "import numpy as np"
   ]
  },
  {
   "cell_type": "code",
   "execution_count": 33,
   "id": "3eb8926e",
   "metadata": {},
   "outputs": [],
   "source": [
    "# Define two pairs of vectors\n",
    "X1 = np.array([1, 1, 1, 0, 0])\n",
    "X2 = np.array([0, 0, 1, 1, 1])\n",
    "Y1 = np.array([1, 0, 0])\n",
    "Y2 = np.array([0, 1, 0])"
   ]
  },
  {
   "cell_type": "code",
   "execution_count": 34,
   "id": "59189bab",
   "metadata": {},
   "outputs": [],
   "source": [
    "# Define the weight matrix\n",
    "W = np.zeros((len(X1), len(Y1)))\n",
    "for i in range(len(X1)):\n",
    "    for j in range(len(Y1)):\n",
    "        W[i][j] = X1[i] * Y1[j] + X2[i] * Y2[j]"
   ]
  },
  {
   "cell_type": "code",
   "execution_count": 42,
   "id": "6d3512d3",
   "metadata": {},
   "outputs": [],
   "source": [
    "# Define the BAM function\n",
    "def BAM(input_vector):\n",
    "    output_vector = np.zeros(len(Y1))\n",
    "    for j in range(len(Y1)):\n",
    "        sum = 0\n",
    "        for i in range(len(X1)):\n",
    "            sum += input_vector[i] * W[i][j]\n",
    "            output_vector[j] = sum\n",
    "            return output_vector"
   ]
  },
  {
   "cell_type": "code",
   "execution_count": 43,
   "id": "a5bbd1b7",
   "metadata": {},
   "outputs": [
    {
     "name": "stdout",
     "output_type": "stream",
     "text": [
      "Input vector: [1 1 1 0 0]\n",
      "Output vector: [1. 0. 0.]\n"
     ]
    }
   ],
   "source": [
    "input_vector = X1\n",
    "output_vector = BAM(input_vector)\n",
    "print(\"Input vector:\", input_vector)\n",
    "print(\"Output vector:\", output_vector)"
   ]
  },
  {
   "cell_type": "code",
   "execution_count": null,
   "id": "4603d4a6",
   "metadata": {},
   "outputs": [],
   "source": []
  }
 ],
 "metadata": {
  "kernelspec": {
   "display_name": "Python 3 (ipykernel)",
   "language": "python",
   "name": "python3"
  },
  "language_info": {
   "codemirror_mode": {
    "name": "ipython",
    "version": 3
   },
   "file_extension": ".py",
   "mimetype": "text/x-python",
   "name": "python",
   "nbconvert_exporter": "python",
   "pygments_lexer": "ipython3",
   "version": "3.9.12"
  }
 },
 "nbformat": 4,
 "nbformat_minor": 5
}
